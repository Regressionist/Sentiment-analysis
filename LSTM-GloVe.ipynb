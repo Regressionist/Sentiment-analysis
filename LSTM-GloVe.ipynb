{
 "cells": [
  {
   "cell_type": "code",
   "execution_count": 1,
   "metadata": {},
   "outputs": [],
   "source": [
    "import pandas as pd\n",
    "import numpy as np\n",
    "import json\n",
    "from pprint import pprint\n",
    "import torch\n",
    "import matplotlib.pyplot as plt\n",
    "import torchtext\n",
    "from sklearn.model_selection import train_test_split\n",
    "from torchtext import data\n",
    "import spacy\n",
    "from torchtext import datasets\n",
    "import random\n",
    "import re\n",
    "from torchtext import vocab\n",
    "import torch.nn as nn\n",
    "import torch.optim as optim"
   ]
  },
  {
   "cell_type": "code",
   "execution_count": 2,
   "metadata": {},
   "outputs": [],
   "source": [
    "d=[]\n",
    "with open('data/reviews.json') as f:\n",
    "    for line in f:\n",
    "        d.append(json.loads(line))\n",
    "reviews=[i['reviewText'].lower() for i in d]\n",
    "label=[i['overall'] for i in d]\n",
    "del d\n",
    "columns={'text':reviews,'label':label}\n",
    "df=pd.DataFrame(data=columns)\n",
    "del reviews\n",
    "del label\n",
    "df=df[df['label']!=3]\n",
    "df['label'].replace(1,0,inplace=True)\n",
    "df['label'].replace(2,0,inplace=True)\n",
    "df['label'].replace(4,1,inplace=True)\n",
    "df['label'].replace(5,1,inplace=True)\n",
    "df_pos=df[df['label']==1]\n",
    "df_neg=df[df['label']==0]\n",
    "df_pos=df_pos.sample(df_neg.shape[0],random_state=0)\n",
    "df=pd.concat([df_pos,df_neg])\n",
    "df=df.reset_index(drop=True)\n",
    "train,test=train_test_split(df,test_size=0.2,random_state=0)\n",
    "train=train.reset_index(drop=True)\n",
    "test=test.reset_index(drop=True)\n",
    "del df"
   ]
  },
  {
   "cell_type": "code",
   "execution_count": 3,
   "metadata": {},
   "outputs": [],
   "source": [
    "text_field=data.Field()\n",
    "label_field=data.LabelField(dtype=torch.float)\n",
    "fields = [('text',text_field),('label',label_field),(None, None)]"
   ]
  },
  {
   "cell_type": "code",
   "execution_count": 4,
   "metadata": {},
   "outputs": [],
   "source": [
    "class PredictSentimentDataset(torchtext.data.Dataset):\n",
    "    def __init__(self, dataframe, TEXT, LABEL, **kwargs):\n",
    "        fields = [(\"text\", TEXT), (\"label\", LABEL),(None, None)]\n",
    "        examples = []\n",
    "        for i in range(dataframe.values[:,1].shape[0]):\n",
    "            text = dataframe.text[i] \n",
    "            label = dataframe.label[i]\n",
    "            examples.append(data.Example.fromlist([text, label], fields))\n",
    "        super().__init__(examples, fields, **kwargs)\n",
    "\n",
    "    @staticmethod\n",
    "    def sort_key(ex): return len(ex.Description)\n",
    "    \n",
    "    @classmethod\n",
    "    def splits(cls, text_field, label_field, root='data',\n",
    "               train='train', test='test', **kwargs):\n",
    "        return super().splits(\n",
    "            root, text_field=text_field, label_field=label_field,\n",
    "            train=train, validation=None, test=test, **kwargs)"
   ]
  },
  {
   "cell_type": "code",
   "execution_count": 5,
   "metadata": {},
   "outputs": [],
   "source": [
    "train=PredictSentimentDataset(train,text_field,label_field)\n",
    "test=PredictSentimentDataset(test,text_field,label_field)"
   ]
  },
  {
   "cell_type": "code",
   "execution_count": 6,
   "metadata": {},
   "outputs": [],
   "source": [
    "train_data, valid_data = train.split(split_ratio=0.85,random_state=random.seed(0))"
   ]
  },
  {
   "cell_type": "code",
   "execution_count": 7,
   "metadata": {},
   "outputs": [
    {
     "name": "stdout",
     "output_type": "stream",
     "text": [
      "Number of training examples: 1004962\n",
      "Number of validation examples: 177346\n",
      "Number of testing examples: 295578\n"
     ]
    }
   ],
   "source": [
    "print(f'Number of training examples: {len(train_data)}')\n",
    "print(f'Number of validation examples: {len(valid_data)}')\n",
    "print(f'Number of testing examples: {len(test)}')"
   ]
  },
  {
   "cell_type": "code",
   "execution_count": 8,
   "metadata": {},
   "outputs": [],
   "source": [
    "text_field.build_vocab(train_data,max_size=25000,vectors=\"glove.6B.100d\")\n",
    "label_field.build_vocab(train_data)"
   ]
  },
  {
   "cell_type": "code",
   "execution_count": 9,
   "metadata": {},
   "outputs": [
    {
     "name": "stdout",
     "output_type": "stream",
     "text": [
      "Unique tokens in TEXT vocabulary: 25002\n",
      "Unique tokens in LABEL vocabulary: 2\n"
     ]
    }
   ],
   "source": [
    "print(f\"Unique tokens in TEXT vocabulary: {len(text_field.vocab)}\")\n",
    "print(f\"Unique tokens in LABEL vocabulary: {len(label_field.vocab)}\")"
   ]
  },
  {
   "cell_type": "code",
   "execution_count": 10,
   "metadata": {},
   "outputs": [],
   "source": [
    "del train"
   ]
  },
  {
   "cell_type": "code",
   "execution_count": 11,
   "metadata": {},
   "outputs": [],
   "source": [
    "BATCH_SIZE = 50\n",
    "\n",
    "device = torch.device('cuda' if torch.cuda.is_available() else 'cpu')\n",
    "\n",
    "#train_iterator, valid_iterator, test_iterator = data.BucketIterator.splits((train_data, valid_data, test), batch_size=BATCH_SIZE,device=device)\n",
    "train_iterator = data.BucketIterator(train_data , batch_size=BATCH_SIZE,device=device)\n",
    "valid_iterator = data.BucketIterator(valid_data, batch_size=BATCH_SIZE,device=device)\n",
    "test_iterator = data.BucketIterator(test, batch_size=BATCH_SIZE,device=device)\n"
   ]
  },
  {
   "cell_type": "code",
   "execution_count": 12,
   "metadata": {},
   "outputs": [
    {
     "data": {
      "text/plain": [
       "20100"
      ]
     },
     "execution_count": 12,
     "metadata": {},
     "output_type": "execute_result"
    }
   ],
   "source": [
    "len(train_iterator)"
   ]
  },
  {
   "cell_type": "code",
   "execution_count": 13,
   "metadata": {},
   "outputs": [],
   "source": [
    "class Model(nn.Module):\n",
    "    def __init__( self, vocab_size, embedding_dim, hidden_dim, output_dim, n_layers, bidirectional):\n",
    "        super().__init__()\n",
    "        \n",
    "        self.embedding=nn.Embedding(vocab_size, embedding_dim)\n",
    "        self.rnn=nn.LSTM(embedding_dim, hidden_dim, num_layers=n_layers, bidirectional=bidirectional)\n",
    "        self.fc = nn.Linear(hidden_dim*2, output_dim)\n",
    "        #self.dropout=nn.Dropout(dropout)\n",
    "        \n",
    "    def forward(self,x):\n",
    "        out=self.embedding(x)\n",
    "        out,(hidden,cell)=self.rnn(out)\n",
    "        hidden = torch.cat((hidden[-2,:,:], hidden[-1,:,:]), dim=1)\n",
    "        out=self.fc(hidden.squeeze(0))\n",
    "        \n",
    "        return out"
   ]
  },
  {
   "cell_type": "code",
   "execution_count": 14,
   "metadata": {},
   "outputs": [],
   "source": [
    "INPUT_DIM = len(text_field.vocab)\n",
    "EMBEDDING_DIM = 100\n",
    "HIDDEN_DIM = 64\n",
    "OUTPUT_DIM = 1\n",
    "N_LAYERS = 2\n",
    "BIDIRECTIONAL = True\n",
    "DROPOUT = 0.5\n",
    "\n",
    "model = Model(INPUT_DIM, EMBEDDING_DIM, HIDDEN_DIM, OUTPUT_DIM, N_LAYERS, BIDIRECTIONAL)"
   ]
  },
  {
   "cell_type": "code",
   "execution_count": 15,
   "metadata": {},
   "outputs": [],
   "source": [
    "optimizer = optim.Adam(model.parameters())\n",
    "criterion = nn.BCEWithLogitsLoss()"
   ]
  },
  {
   "cell_type": "code",
   "execution_count": 16,
   "metadata": {},
   "outputs": [],
   "source": [
    "model = model.to(device)\n",
    "criterion = criterion.to(device)"
   ]
  },
  {
   "cell_type": "code",
   "execution_count": 17,
   "metadata": {},
   "outputs": [],
   "source": [
    "def binary_accuracy(preds, y):\n",
    "    \"\"\"\n",
    "    Returns accuracy per batch, i.e. if you get 8/10 right, this returns 0.8, NOT 8\n",
    "    \"\"\"\n",
    "\n",
    "    #round predictions to the closest integer\n",
    "    rounded_preds = torch.round(torch.sigmoid(preds))\n",
    "    correct = (rounded_preds == y).float() #convert into float for division \n",
    "    acc = correct.sum()/len(correct)\n",
    "    return acc"
   ]
  },
  {
   "cell_type": "code",
   "execution_count": 18,
   "metadata": {},
   "outputs": [],
   "source": [
    "def train(model, iterator, optimizer, criterion,epochs,num_epochs):\n",
    "    epoch_loss = 0\n",
    "    model.train()\n",
    "    counter=1\n",
    "    for batch in iterator:\n",
    "        optimizer.zero_grad()\n",
    "        predictions = model(batch.text).squeeze(1)\n",
    "        loss = criterion(predictions, batch.label)\n",
    "        rl.append(loss)\n",
    "        loss.backward()\n",
    "        optimizer.step()\n",
    "        epoch_loss += loss.item()\n",
    "        counter=counter+1\n",
    "        \n",
    "        if(counter%2010==0):\n",
    "            print('Epoch: [{}/{}] | Step: [{}/{}] | Loss: {} |'.format(epochs+1, num_epochs, int((counter)/2010),10 , round(epoch_loss/2010,3)))\n",
    "            #counter=0\n",
    "            epoch_loss=0\n",
    "        \n",
    "    #return epoch_loss / len(iterator)\n"
   ]
  },
  {
   "cell_type": "code",
   "execution_count": 19,
   "metadata": {},
   "outputs": [],
   "source": [
    "def evaluate(model, iterator):\n",
    "    epoch_acc = 0\n",
    "    model.eval()\n",
    "    for batch in iterator:\n",
    "        predictions = model(batch.text).squeeze(1)\n",
    "        accuracy = binary_accuracy(predictions, batch.label)\n",
    "        epoch_acc += accuracy.item()\n",
    "        \n",
    "    return epoch_acc / len(iterator)"
   ]
  },
  {
   "cell_type": "code",
   "execution_count": 28,
   "metadata": {},
   "outputs": [
    {
     "data": {
      "text/plain": [
       "Model(\n",
       "  (embedding): Embedding(25002, 100)\n",
       "  (rnn): LSTM(100, 64, num_layers=2, bidirectional=True)\n",
       "  (fc): Linear(in_features=128, out_features=1, bias=True)\n",
       ")"
      ]
     },
     "execution_count": 28,
     "metadata": {},
     "output_type": "execute_result"
    }
   ],
   "source": [
    "checkpoint = torch.load('model_1.pth')\n",
    "model.load_state_dict(checkpoint['model_state_dict'])\n",
    "optimizer.load_state_dict(checkpoint['optimizer_state_dict'])\n",
    "epoch = checkpoint['epoch']\n",
    "rl = checkpoint['loss']\n",
    "acc=checkpoint['validation_accuracy']\n",
    "\n",
    "model.eval()"
   ]
  },
  {
   "cell_type": "code",
   "execution_count": 20,
   "metadata": {},
   "outputs": [
    {
     "name": "stdout",
     "output_type": "stream",
     "text": [
      "Epoch: [1/3] | Step: [1/10] | Loss: 0.497 |\n",
      "Epoch: [1/3] | Step: [2/10] | Loss: 0.29 |\n",
      "Epoch: [1/3] | Step: [3/10] | Loss: 0.218 |\n",
      "Epoch: [1/3] | Step: [4/10] | Loss: 0.199 |\n",
      "Epoch: [1/3] | Step: [5/10] | Loss: 0.185 |\n",
      "Epoch: [1/3] | Step: [6/10] | Loss: 0.174 |\n",
      "Epoch: [1/3] | Step: [7/10] | Loss: 0.163 |\n",
      "Epoch: [1/3] | Step: [8/10] | Loss: 0.161 |\n",
      "Epoch: [1/3] | Step: [9/10] | Loss: 0.154 |\n",
      "Epoch: [1/3] | Step: [10/10] | Loss: 0.151 |\n",
      "| Epoch: 01 | Val. Acc: 94.33% | ---%Saving the model%---\n",
      "Epoch: [2/3] | Step: [1/10] | Loss: 0.133 |\n",
      "Epoch: [2/3] | Step: [2/10] | Loss: 0.134 |\n",
      "Epoch: [2/3] | Step: [3/10] | Loss: 0.133 |\n",
      "Epoch: [2/3] | Step: [4/10] | Loss: 0.131 |\n",
      "Epoch: [2/3] | Step: [5/10] | Loss: 0.133 |\n",
      "Epoch: [2/3] | Step: [6/10] | Loss: 0.133 |\n",
      "Epoch: [2/3] | Step: [7/10] | Loss: 0.132 |\n",
      "Epoch: [2/3] | Step: [8/10] | Loss: 0.132 |\n",
      "Epoch: [2/3] | Step: [9/10] | Loss: 0.133 |\n",
      "Epoch: [2/3] | Step: [10/10] | Loss: 0.129 |\n",
      "| Epoch: 02 | Val. Acc: 94.80% | ---%Saving the model%---\n",
      "Epoch: [3/3] | Step: [1/10] | Loss: 0.104 |\n",
      "Epoch: [3/3] | Step: [2/10] | Loss: 0.108 |\n",
      "Epoch: [3/3] | Step: [3/10] | Loss: 0.111 |\n",
      "Epoch: [3/3] | Step: [4/10] | Loss: 0.105 |\n",
      "Epoch: [3/3] | Step: [5/10] | Loss: 0.109 |\n",
      "Epoch: [3/3] | Step: [6/10] | Loss: 0.111 |\n",
      "Epoch: [3/3] | Step: [7/10] | Loss: 0.111 |\n",
      "Epoch: [3/3] | Step: [8/10] | Loss: 0.111 |\n",
      "Epoch: [3/3] | Step: [9/10] | Loss: 0.113 |\n",
      "Epoch: [3/3] | Step: [10/10] | Loss: 0.113 |\n",
      "| Epoch: 03 | Val. Acc: 94.84% | ---%Saving the model%---\n"
     ]
    },
    {
     "data": {
      "text/plain": [
       "[<matplotlib.lines.Line2D at 0x7f3ac809bc88>]"
      ]
     },
     "execution_count": 20,
     "metadata": {},
     "output_type": "execute_result"
    },
    {
     "data": {
      "image/png": "[encoded data removed]",
      "text/plain": [
       "<Figure size 432x288 with 1 Axes>"
      ]
     },
     "metadata": {
      "needs_background": "light"
     },
     "output_type": "display_data"
    }
   ],
   "source": [
    "N_EPOCHS = 3\n",
    "rl=[]\n",
    "acc=[]\n",
    "epoch=0\n",
    "for epochs in range(epoch,epoch+N_EPOCHS):\n",
    "    train(model, train_iterator, optimizer, criterion,epochs,N_EPOCHS+epoch)\n",
    "    valid_acc = evaluate(model, valid_iterator)\n",
    "    acc.append(valid_acc)\n",
    "    print(f'| Epoch: {epochs+1:02} | Val. Acc: {valid_acc*100:.2f}% | ---%Saving the model%---')\n",
    "    torch.save({\n",
    "            'epoch': int(len(acc)),\n",
    "            'model_state_dict': model.state_dict(),\n",
    "            'optimizer_state_dict': optimizer.state_dict(),\n",
    "            'loss': rl,\n",
    "            'validation_accuracy':acc,\n",
    "            },'model_GloVe_{}.pth'.format(int(len(acc))))\n",
    "plt.plot(range(len(rl)),rl)"
   ]
  },
  {
   "cell_type": "code",
   "execution_count": 21,
   "metadata": {},
   "outputs": [
    {
     "name": "stdout",
     "output_type": "stream",
     "text": [
      "0.95009470032339\n"
     ]
    }
   ],
   "source": [
    "print(evaluate(model, test_iterator))"
   ]
  },
  {
   "cell_type": "markdown",
   "metadata": {},
   "source": [
    "## User Input ##\n"
   ]
  },
  {
   "cell_type": "code",
   "execution_count": 22,
   "metadata": {},
   "outputs": [],
   "source": [
    "nlp=spacy.load('en')\n",
    "def predictsentiment(sentence):\n",
    "    tokenized = [tok.text for tok in nlp.tokenizer(sentence)]\n",
    "    indexed = [text_field.vocab.stoi[t] for t in tokenized]\n",
    "    tensor=torch.LongTensor(indexed).to(device)\n",
    "    tensor=tensor.unsqueeze(1)\n",
    "    prediction=torch.sigmoid(model(tensor))\n",
    "    p=prediction.item()\n",
    "    if(p<0.5):\n",
    "        print ('positive')\n",
    "    if(p>0.5):\n",
    "        print ('negative')\n",
    "    "
   ]
  },
  {
   "cell_type": "code",
   "execution_count": 23,
   "metadata": {},
   "outputs": [
    {
     "name": "stdout",
     "output_type": "stream",
     "text": [
      "positive\n"
     ]
    }
   ],
   "source": [
    "predictsentiment('Our economy is in a midst of a revolution. Demonetization, introduction of GST and recapitalization of banks may prove to be a game changer ')"
   ]
  },
  {
   "cell_type": "code",
   "execution_count": null,
   "metadata": {},
   "outputs": [],
   "source": []
  }
 ],
 "metadata": {
  "kernelspec": {
   "display_name": "Python 3",
   "language": "python",
   "name": "python3"
  },
  "language_info": {
   "codemirror_mode": {
    "name": "ipython",
    "version": 3
   },
   "file_extension": ".py",
   "mimetype": "text/x-python",
   "name": "python",
   "nbconvert_exporter": "python",
   "pygments_lexer": "ipython3",
   "version": "3.6.6"
  }
 },
 "nbformat": 4,
 "nbformat_minor": 2
}
